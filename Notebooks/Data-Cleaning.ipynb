{
 "metadata": {
  "language_info": {
   "codemirror_mode": {
    "name": "ipython",
    "version": 3
   },
   "file_extension": ".py",
   "mimetype": "text/x-python",
   "name": "python",
   "nbconvert_exporter": "python",
   "pygments_lexer": "ipython3",
   "version": "3.9.1"
  },
  "orig_nbformat": 2,
  "kernelspec": {
   "name": "python391jvsc74a57bd0aee8b7b246df8f9039afb4144a1f6fd8d2ca17a180786b69acc140d282b71a49",
   "display_name": "Python 3.9.1 64-bit"
  },
  "metadata": {
   "interpreter": {
    "hash": "aee8b7b246df8f9039afb4144a1f6fd8d2ca17a180786b69acc140d282b71a49"
   }
  }
 },
 "nbformat": 4,
 "nbformat_minor": 2,
 "cells": [
  {
   "cell_type": "code",
   "execution_count": 2,
   "metadata": {},
   "outputs": [
    {
     "output_type": "execute_result",
     "data": {
      "text/plain": [
       "(16, 7)"
      ]
     },
     "metadata": {},
     "execution_count": 2
    }
   ],
   "source": [
    "import pandas as pd\n",
    "data = pd.read_csv(\"../Datasets/Raw-Data.csv\")\n",
    "data.shape"
   ]
  },
  {
   "cell_type": "code",
   "execution_count": 3,
   "metadata": {},
   "outputs": [
    {
     "output_type": "execute_result",
     "data": {
      "text/plain": [
       "              Country    Age       Gender  \\\n",
       "0               China    0-9         Male   \n",
       "1               Italy  10-19       Female   \n",
       "2                Iran  20-24  Transgender   \n",
       "3  Republic of Korean  25-59          NaN   \n",
       "4              France    60+          NaN   \n",
       "\n",
       "                                            Symptoms  \\\n",
       "0  Fever,Tiredness,Dry-Cough,Difficulty-in-Breath...   \n",
       "1  Fever,Tiredness,Dry-Cough,Difficulty-in-Breathing   \n",
       "2                          Fever,Tiredness,Dry-Cough   \n",
       "3                                    Fever,Tiredness   \n",
       "4                                              Fever   \n",
       "\n",
       "                        Experiencing_Symptoms  Severity    Contact  \n",
       "0  Pains,Nasal-Congestion,Runny-Nose,Diarrhea      Mild        Yes  \n",
       "1           Pains,Nasal-Congestion,Runny-Nose  Moderate         No  \n",
       "2                      Pains,Nasal-Congestion    Severe  Dont-Know  \n",
       "3                                       Pains      None        NaN  \n",
       "4        Nasal-Congestion,Runny-Nose,Diarrhea       NaN        NaN  "
      ],
      "text/html": "<div>\n<style scoped>\n    .dataframe tbody tr th:only-of-type {\n        vertical-align: middle;\n    }\n\n    .dataframe tbody tr th {\n        vertical-align: top;\n    }\n\n    .dataframe thead th {\n        text-align: right;\n    }\n</style>\n<table border=\"1\" class=\"dataframe\">\n  <thead>\n    <tr style=\"text-align: right;\">\n      <th></th>\n      <th>Country</th>\n      <th>Age</th>\n      <th>Gender</th>\n      <th>Symptoms</th>\n      <th>Experiencing_Symptoms</th>\n      <th>Severity</th>\n      <th>Contact</th>\n    </tr>\n  </thead>\n  <tbody>\n    <tr>\n      <th>0</th>\n      <td>China</td>\n      <td>0-9</td>\n      <td>Male</td>\n      <td>Fever,Tiredness,Dry-Cough,Difficulty-in-Breath...</td>\n      <td>Pains,Nasal-Congestion,Runny-Nose,Diarrhea</td>\n      <td>Mild</td>\n      <td>Yes</td>\n    </tr>\n    <tr>\n      <th>1</th>\n      <td>Italy</td>\n      <td>10-19</td>\n      <td>Female</td>\n      <td>Fever,Tiredness,Dry-Cough,Difficulty-in-Breathing</td>\n      <td>Pains,Nasal-Congestion,Runny-Nose</td>\n      <td>Moderate</td>\n      <td>No</td>\n    </tr>\n    <tr>\n      <th>2</th>\n      <td>Iran</td>\n      <td>20-24</td>\n      <td>Transgender</td>\n      <td>Fever,Tiredness,Dry-Cough</td>\n      <td>Pains,Nasal-Congestion</td>\n      <td>Severe</td>\n      <td>Dont-Know</td>\n    </tr>\n    <tr>\n      <th>3</th>\n      <td>Republic of Korean</td>\n      <td>25-59</td>\n      <td>NaN</td>\n      <td>Fever,Tiredness</td>\n      <td>Pains</td>\n      <td>None</td>\n      <td>NaN</td>\n    </tr>\n    <tr>\n      <th>4</th>\n      <td>France</td>\n      <td>60+</td>\n      <td>NaN</td>\n      <td>Fever</td>\n      <td>Nasal-Congestion,Runny-Nose,Diarrhea</td>\n      <td>NaN</td>\n      <td>NaN</td>\n    </tr>\n  </tbody>\n</table>\n</div>"
     },
     "metadata": {},
     "execution_count": 3
    }
   ],
   "source": [
    "data.head()"
   ]
  },
  {
   "cell_type": "code",
   "execution_count": 16,
   "metadata": {},
   "outputs": [
    {
     "output_type": "stream",
     "name": "stdout",
     "text": [
      "Column wise missing values count..\n\ncountry: \t 6\nAge: \t 11\nGender: \t 13\nSymptoms: \t 0\nExperiencing_Symptoms: \t 5\nSeverity: \t 12\nContact: \t 13\n"
     ]
    }
   ],
   "source": [
    "print(\"Column wise missing values count..\\n\")\n",
    "print(\"country: \\t\\t\", data.Country.isna().sum())\n",
    "print(\"Age: \\t\\t\", data.Age.isna().sum())\n",
    "print(\"Gender: \\t\\t\", data.Gender.isna().sum())\n",
    "print(\"Symptoms: \\t\\t\", data.Symptoms.isna().sum())\n",
    "print(\"Experiencing_Symptoms: \\t\\t\", data.Experiencing_Symptoms.isna().sum())\n",
    "print(\"Severity: \\t\\t\", data.Severity.isna().sum())\n",
    "print(\"Contact: \\t\\t\", data.Contact.isna().sum())"
   ]
  },
  {
   "cell_type": "code",
   "execution_count": 6,
   "metadata": {},
   "outputs": [
    {
     "output_type": "stream",
     "name": "stdout",
     "text": [
      "Possible Number of Total Combination:  316800\n"
     ]
    }
   ],
   "source": [
    "country = len(data.Country.dropna().unique())\n",
    "age = len(data.Age.dropna().unique())\n",
    "gender = len(data.Gender.dropna().unique())\n",
    "symptoms = len(data.Symptoms.dropna().unique())\n",
    "esymptoms = len(data.Experiencing_Symptoms.dropna().unique())\n",
    "severity = len(data.Severity.dropna().unique())\n",
    "contact = len(data.Contact.dropna().unique())\n",
    "\n",
    "print(\"Possible Number of Total Combination: \",country * age * gender * symptoms * esymptoms * severity * contact)"
   ]
  },
  {
   "cell_type": "code",
   "execution_count": 7,
   "metadata": {},
   "outputs": [],
   "source": [
    "import itertools\n",
    "columns = [data.Country.dropna().unique().tolist(),\n",
    "          data.Age.dropna().unique().tolist(),\n",
    "          data.Gender.dropna().unique().tolist(),\n",
    "          data.Symptoms.dropna().unique().tolist(),\n",
    "          data.Experiencing_Symptoms.dropna().unique().tolist(),\n",
    "          data.Severity.dropna().unique().tolist(),\n",
    "          data.Contact.dropna().unique().tolist()]\n",
    "\n",
    "final_data = pd.DataFrame(list(itertools.product(*columns)), columns=data.columns)"
   ]
  },
  {
   "cell_type": "code",
   "execution_count": 9,
   "metadata": {},
   "outputs": [
    {
     "output_type": "execute_result",
     "data": {
      "text/plain": [
       "(316800, 7)"
      ]
     },
     "metadata": {},
     "execution_count": 9
    }
   ],
   "source": [
    "final_data.shape"
   ]
  },
  {
   "cell_type": "code",
   "execution_count": 10,
   "metadata": {},
   "outputs": [
    {
     "output_type": "execute_result",
     "data": {
      "text/plain": [
       "  Country  Age Gender                                           Symptoms  \\\n",
       "0   China  0-9   Male  Fever,Tiredness,Dry-Cough,Difficulty-in-Breath...   \n",
       "1   China  0-9   Male  Fever,Tiredness,Dry-Cough,Difficulty-in-Breath...   \n",
       "2   China  0-9   Male  Fever,Tiredness,Dry-Cough,Difficulty-in-Breath...   \n",
       "3   China  0-9   Male  Fever,Tiredness,Dry-Cough,Difficulty-in-Breath...   \n",
       "4   China  0-9   Male  Fever,Tiredness,Dry-Cough,Difficulty-in-Breath...   \n",
       "\n",
       "                        Experiencing_Symptoms  Severity    Contact  \n",
       "0  Pains,Nasal-Congestion,Runny-Nose,Diarrhea      Mild        Yes  \n",
       "1  Pains,Nasal-Congestion,Runny-Nose,Diarrhea      Mild         No  \n",
       "2  Pains,Nasal-Congestion,Runny-Nose,Diarrhea      Mild  Dont-Know  \n",
       "3  Pains,Nasal-Congestion,Runny-Nose,Diarrhea  Moderate        Yes  \n",
       "4  Pains,Nasal-Congestion,Runny-Nose,Diarrhea  Moderate         No  "
      ],
      "text/html": "<div>\n<style scoped>\n    .dataframe tbody tr th:only-of-type {\n        vertical-align: middle;\n    }\n\n    .dataframe tbody tr th {\n        vertical-align: top;\n    }\n\n    .dataframe thead th {\n        text-align: right;\n    }\n</style>\n<table border=\"1\" class=\"dataframe\">\n  <thead>\n    <tr style=\"text-align: right;\">\n      <th></th>\n      <th>Country</th>\n      <th>Age</th>\n      <th>Gender</th>\n      <th>Symptoms</th>\n      <th>Experiencing_Symptoms</th>\n      <th>Severity</th>\n      <th>Contact</th>\n    </tr>\n  </thead>\n  <tbody>\n    <tr>\n      <th>0</th>\n      <td>China</td>\n      <td>0-9</td>\n      <td>Male</td>\n      <td>Fever,Tiredness,Dry-Cough,Difficulty-in-Breath...</td>\n      <td>Pains,Nasal-Congestion,Runny-Nose,Diarrhea</td>\n      <td>Mild</td>\n      <td>Yes</td>\n    </tr>\n    <tr>\n      <th>1</th>\n      <td>China</td>\n      <td>0-9</td>\n      <td>Male</td>\n      <td>Fever,Tiredness,Dry-Cough,Difficulty-in-Breath...</td>\n      <td>Pains,Nasal-Congestion,Runny-Nose,Diarrhea</td>\n      <td>Mild</td>\n      <td>No</td>\n    </tr>\n    <tr>\n      <th>2</th>\n      <td>China</td>\n      <td>0-9</td>\n      <td>Male</td>\n      <td>Fever,Tiredness,Dry-Cough,Difficulty-in-Breath...</td>\n      <td>Pains,Nasal-Congestion,Runny-Nose,Diarrhea</td>\n      <td>Mild</td>\n      <td>Dont-Know</td>\n    </tr>\n    <tr>\n      <th>3</th>\n      <td>China</td>\n      <td>0-9</td>\n      <td>Male</td>\n      <td>Fever,Tiredness,Dry-Cough,Difficulty-in-Breath...</td>\n      <td>Pains,Nasal-Congestion,Runny-Nose,Diarrhea</td>\n      <td>Moderate</td>\n      <td>Yes</td>\n    </tr>\n    <tr>\n      <th>4</th>\n      <td>China</td>\n      <td>0-9</td>\n      <td>Male</td>\n      <td>Fever,Tiredness,Dry-Cough,Difficulty-in-Breath...</td>\n      <td>Pains,Nasal-Congestion,Runny-Nose,Diarrhea</td>\n      <td>Moderate</td>\n      <td>No</td>\n    </tr>\n  </tbody>\n</table>\n</div>"
     },
     "metadata": {},
     "execution_count": 10
    }
   ],
   "source": [
    "final_data.head()"
   ]
  }
 ]
}