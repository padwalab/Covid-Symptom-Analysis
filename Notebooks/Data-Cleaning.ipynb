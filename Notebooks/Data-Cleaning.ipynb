{
 "metadata": {
  "language_info": {
   "codemirror_mode": {
    "name": "ipython",
    "version": 3
   },
   "file_extension": ".py",
   "mimetype": "text/x-python",
   "name": "python",
   "nbconvert_exporter": "python",
   "pygments_lexer": "ipython3",
   "version": "3.9.1"
  },
  "orig_nbformat": 2,
  "kernelspec": {
   "name": "python391jvsc74a57bd0aee8b7b246df8f9039afb4144a1f6fd8d2ca17a180786b69acc140d282b71a49",
   "display_name": "Python 3.9.1 64-bit"
  },
  "metadata": {
   "interpreter": {
    "hash": "aee8b7b246df8f9039afb4144a1f6fd8d2ca17a180786b69acc140d282b71a49"
   }
  }
 },
 "nbformat": 4,
 "nbformat_minor": 2,
 "cells": [
  {
   "cell_type": "code",
   "execution_count": 1,
   "metadata": {},
   "outputs": [],
   "source": [
    "import pandas as pd\n",
    "pd.set_option(\"display.max.columns\", None)"
   ]
  },
  {
   "source": [
    "## Loading the Raw Data in data frame"
   ],
   "cell_type": "markdown",
   "metadata": {}
  },
  {
   "source": [
    "### Shape of the data"
   ],
   "cell_type": "markdown",
   "metadata": {}
  },
  {
   "cell_type": "code",
   "execution_count": 2,
   "metadata": {},
   "outputs": [
    {
     "output_type": "execute_result",
     "data": {
      "text/plain": [
       "(16, 7)"
      ]
     },
     "metadata": {},
     "execution_count": 2
    }
   ],
   "source": [
    "data = pd.read_csv(\"../Datasets/Raw-Data.csv\")\n",
    "data.shape"
   ]
  },
  {
   "source": [
    "### Sample Data values"
   ],
   "cell_type": "markdown",
   "metadata": {}
  },
  {
   "cell_type": "code",
   "execution_count": 3,
   "metadata": {},
   "outputs": [
    {
     "output_type": "execute_result",
     "data": {
      "text/plain": [
       "              Country    Age       Gender  \\\n",
       "0               China    0-9         Male   \n",
       "1               Italy  10-19       Female   \n",
       "2                Iran  20-24  Transgender   \n",
       "3  Republic of Korean  25-59          NaN   \n",
       "4              France    60+          NaN   \n",
       "\n",
       "                                            Symptoms  \\\n",
       "0  Fever,Tiredness,Dry-Cough,Difficulty-in-Breath...   \n",
       "1  Fever,Tiredness,Dry-Cough,Difficulty-in-Breathing   \n",
       "2                          Fever,Tiredness,Dry-Cough   \n",
       "3                                    Fever,Tiredness   \n",
       "4                                              Fever   \n",
       "\n",
       "                        Experiencing_Symptoms  Severity    Contact  \n",
       "0  Pains,Nasal-Congestion,Runny-Nose,Diarrhea      Mild        Yes  \n",
       "1           Pains,Nasal-Congestion,Runny-Nose  Moderate         No  \n",
       "2                      Pains,Nasal-Congestion    Severe  Dont-Know  \n",
       "3                                       Pains      None        NaN  \n",
       "4        Nasal-Congestion,Runny-Nose,Diarrhea       NaN        NaN  "
      ],
      "text/html": "<div>\n<style scoped>\n    .dataframe tbody tr th:only-of-type {\n        vertical-align: middle;\n    }\n\n    .dataframe tbody tr th {\n        vertical-align: top;\n    }\n\n    .dataframe thead th {\n        text-align: right;\n    }\n</style>\n<table border=\"1\" class=\"dataframe\">\n  <thead>\n    <tr style=\"text-align: right;\">\n      <th></th>\n      <th>Country</th>\n      <th>Age</th>\n      <th>Gender</th>\n      <th>Symptoms</th>\n      <th>Experiencing_Symptoms</th>\n      <th>Severity</th>\n      <th>Contact</th>\n    </tr>\n  </thead>\n  <tbody>\n    <tr>\n      <th>0</th>\n      <td>China</td>\n      <td>0-9</td>\n      <td>Male</td>\n      <td>Fever,Tiredness,Dry-Cough,Difficulty-in-Breath...</td>\n      <td>Pains,Nasal-Congestion,Runny-Nose,Diarrhea</td>\n      <td>Mild</td>\n      <td>Yes</td>\n    </tr>\n    <tr>\n      <th>1</th>\n      <td>Italy</td>\n      <td>10-19</td>\n      <td>Female</td>\n      <td>Fever,Tiredness,Dry-Cough,Difficulty-in-Breathing</td>\n      <td>Pains,Nasal-Congestion,Runny-Nose</td>\n      <td>Moderate</td>\n      <td>No</td>\n    </tr>\n    <tr>\n      <th>2</th>\n      <td>Iran</td>\n      <td>20-24</td>\n      <td>Transgender</td>\n      <td>Fever,Tiredness,Dry-Cough</td>\n      <td>Pains,Nasal-Congestion</td>\n      <td>Severe</td>\n      <td>Dont-Know</td>\n    </tr>\n    <tr>\n      <th>3</th>\n      <td>Republic of Korean</td>\n      <td>25-59</td>\n      <td>NaN</td>\n      <td>Fever,Tiredness</td>\n      <td>Pains</td>\n      <td>None</td>\n      <td>NaN</td>\n    </tr>\n    <tr>\n      <th>4</th>\n      <td>France</td>\n      <td>60+</td>\n      <td>NaN</td>\n      <td>Fever</td>\n      <td>Nasal-Congestion,Runny-Nose,Diarrhea</td>\n      <td>NaN</td>\n      <td>NaN</td>\n    </tr>\n  </tbody>\n</table>\n</div>"
     },
     "metadata": {},
     "execution_count": 3
    }
   ],
   "source": [
    "data.head()"
   ]
  },
  {
   "source": [
    "### Finding the count of missing values in the columns"
   ],
   "cell_type": "markdown",
   "metadata": {}
  },
  {
   "cell_type": "code",
   "execution_count": 4,
   "metadata": {},
   "outputs": [
    {
     "output_type": "stream",
     "name": "stdout",
     "text": [
      "Column wise missing values count..\n\ncountry: \t\t 6\nAge: \t\t\t 11\nGender: \t\t 13\nSymptoms: \t\t 0\nExperiencing_Symptoms: \t 5\nSeverity: \t\t 12\nContact: \t\t 13\n"
     ]
    }
   ],
   "source": [
    "print(\"Column wise missing values count..\\n\")\n",
    "print(\"country: \\t\\t\", data.Country.isna().sum())\n",
    "print(\"Age: \\t\\t\\t\", data.Age.isna().sum())\n",
    "print(\"Gender: \\t\\t\", data.Gender.isna().sum())\n",
    "print(\"Symptoms: \\t\\t\", data.Symptoms.isna().sum())\n",
    "print(\"Experiencing_Symptoms: \\t\", data.Experiencing_Symptoms.isna().sum())\n",
    "print(\"Severity: \\t\\t\", data.Severity.isna().sum())\n",
    "print(\"Contact: \\t\\t\", data.Contact.isna().sum())"
   ]
  },
  {
   "source": [
    "### Possible total Combinations"
   ],
   "cell_type": "markdown",
   "metadata": {}
  },
  {
   "cell_type": "code",
   "execution_count": 5,
   "metadata": {},
   "outputs": [
    {
     "output_type": "stream",
     "name": "stdout",
     "text": [
      "Possible Number of Total Combination:  316800\n"
     ]
    }
   ],
   "source": [
    "country = len(data.Country.dropna().unique())\n",
    "age = len(data.Age.dropna().unique())\n",
    "gender = len(data.Gender.dropna().unique())\n",
    "symptoms = len(data.Symptoms.dropna().unique())\n",
    "esymptoms = len(data.Experiencing_Symptoms.dropna().unique())\n",
    "severity = len(data.Severity.dropna().unique())\n",
    "contact = len(data.Contact.dropna().unique())\n",
    "\n",
    "print(\"Possible Number of Total Combination: \",country * age * gender * symptoms * esymptoms * severity * contact)"
   ]
  },
  {
   "source": [
    "### Dropping the missing / null values"
   ],
   "cell_type": "markdown",
   "metadata": {}
  },
  {
   "cell_type": "code",
   "execution_count": 6,
   "metadata": {},
   "outputs": [],
   "source": [
    "import itertools\n",
    "columns = [data.Country.dropna().unique().tolist(),\n",
    "          data.Age.dropna().unique().tolist(),\n",
    "          data.Gender.dropna().unique().tolist(),\n",
    "          data.Symptoms.dropna().unique().tolist(),\n",
    "          data.Experiencing_Symptoms.dropna().unique().tolist(),\n",
    "          data.Severity.dropna().unique().tolist(),\n",
    "          data.Contact.dropna().unique().tolist()]\n",
    "\n",
    "final_data = pd.DataFrame(list(itertools.product(*columns)), columns=data.columns)"
   ]
  },
  {
   "source": [
    "### Data shape after handling the missing vlaues"
   ],
   "cell_type": "markdown",
   "metadata": {}
  },
  {
   "cell_type": "code",
   "execution_count": 7,
   "metadata": {},
   "outputs": [
    {
     "output_type": "execute_result",
     "data": {
      "text/plain": [
       "(316800, 7)"
      ]
     },
     "metadata": {},
     "execution_count": 7
    }
   ],
   "source": [
    "final_data.shape"
   ]
  },
  {
   "cell_type": "code",
   "execution_count": 8,
   "metadata": {},
   "outputs": [
    {
     "output_type": "execute_result",
     "data": {
      "text/plain": [
       "  Country  Age Gender                                           Symptoms  \\\n",
       "0   China  0-9   Male  Fever,Tiredness,Dry-Cough,Difficulty-in-Breath...   \n",
       "1   China  0-9   Male  Fever,Tiredness,Dry-Cough,Difficulty-in-Breath...   \n",
       "2   China  0-9   Male  Fever,Tiredness,Dry-Cough,Difficulty-in-Breath...   \n",
       "3   China  0-9   Male  Fever,Tiredness,Dry-Cough,Difficulty-in-Breath...   \n",
       "4   China  0-9   Male  Fever,Tiredness,Dry-Cough,Difficulty-in-Breath...   \n",
       "\n",
       "                        Experiencing_Symptoms  Severity    Contact  \n",
       "0  Pains,Nasal-Congestion,Runny-Nose,Diarrhea      Mild        Yes  \n",
       "1  Pains,Nasal-Congestion,Runny-Nose,Diarrhea      Mild         No  \n",
       "2  Pains,Nasal-Congestion,Runny-Nose,Diarrhea      Mild  Dont-Know  \n",
       "3  Pains,Nasal-Congestion,Runny-Nose,Diarrhea  Moderate        Yes  \n",
       "4  Pains,Nasal-Congestion,Runny-Nose,Diarrhea  Moderate         No  "
      ],
      "text/html": "<div>\n<style scoped>\n    .dataframe tbody tr th:only-of-type {\n        vertical-align: middle;\n    }\n\n    .dataframe tbody tr th {\n        vertical-align: top;\n    }\n\n    .dataframe thead th {\n        text-align: right;\n    }\n</style>\n<table border=\"1\" class=\"dataframe\">\n  <thead>\n    <tr style=\"text-align: right;\">\n      <th></th>\n      <th>Country</th>\n      <th>Age</th>\n      <th>Gender</th>\n      <th>Symptoms</th>\n      <th>Experiencing_Symptoms</th>\n      <th>Severity</th>\n      <th>Contact</th>\n    </tr>\n  </thead>\n  <tbody>\n    <tr>\n      <th>0</th>\n      <td>China</td>\n      <td>0-9</td>\n      <td>Male</td>\n      <td>Fever,Tiredness,Dry-Cough,Difficulty-in-Breath...</td>\n      <td>Pains,Nasal-Congestion,Runny-Nose,Diarrhea</td>\n      <td>Mild</td>\n      <td>Yes</td>\n    </tr>\n    <tr>\n      <th>1</th>\n      <td>China</td>\n      <td>0-9</td>\n      <td>Male</td>\n      <td>Fever,Tiredness,Dry-Cough,Difficulty-in-Breath...</td>\n      <td>Pains,Nasal-Congestion,Runny-Nose,Diarrhea</td>\n      <td>Mild</td>\n      <td>No</td>\n    </tr>\n    <tr>\n      <th>2</th>\n      <td>China</td>\n      <td>0-9</td>\n      <td>Male</td>\n      <td>Fever,Tiredness,Dry-Cough,Difficulty-in-Breath...</td>\n      <td>Pains,Nasal-Congestion,Runny-Nose,Diarrhea</td>\n      <td>Mild</td>\n      <td>Dont-Know</td>\n    </tr>\n    <tr>\n      <th>3</th>\n      <td>China</td>\n      <td>0-9</td>\n      <td>Male</td>\n      <td>Fever,Tiredness,Dry-Cough,Difficulty-in-Breath...</td>\n      <td>Pains,Nasal-Congestion,Runny-Nose,Diarrhea</td>\n      <td>Moderate</td>\n      <td>Yes</td>\n    </tr>\n    <tr>\n      <th>4</th>\n      <td>China</td>\n      <td>0-9</td>\n      <td>Male</td>\n      <td>Fever,Tiredness,Dry-Cough,Difficulty-in-Breath...</td>\n      <td>Pains,Nasal-Congestion,Runny-Nose,Diarrhea</td>\n      <td>Moderate</td>\n      <td>No</td>\n    </tr>\n  </tbody>\n</table>\n</div>"
     },
     "metadata": {},
     "execution_count": 8
    }
   ],
   "source": [
    "final_data.head()"
   ]
  },
  {
   "source": [
    "## Sympton analysis"
   ],
   "cell_type": "markdown",
   "metadata": {}
  },
  {
   "source": [
    "### Extracting the symptoms"
   ],
   "cell_type": "markdown",
   "metadata": {}
  },
  {
   "cell_type": "code",
   "execution_count": 9,
   "metadata": {},
   "outputs": [
    {
     "output_type": "execute_result",
     "data": {
      "text/plain": [
       "       Country  Age       Gender  \\\n",
       "0        China  0-9         Male   \n",
       "1        China  0-9         Male   \n",
       "2        China  0-9         Male   \n",
       "3        China  0-9         Male   \n",
       "4        China  0-9         Male   \n",
       "...        ...  ...          ...   \n",
       "316795   Other  60+  Transgender   \n",
       "316796   Other  60+  Transgender   \n",
       "316797   Other  60+  Transgender   \n",
       "316798   Other  60+  Transgender   \n",
       "316799   Other  60+  Transgender   \n",
       "\n",
       "                                                 Symptoms  \\\n",
       "0       Fever,Tiredness,Dry-Cough,Difficulty-in-Breath...   \n",
       "1       Fever,Tiredness,Dry-Cough,Difficulty-in-Breath...   \n",
       "2       Fever,Tiredness,Dry-Cough,Difficulty-in-Breath...   \n",
       "3       Fever,Tiredness,Dry-Cough,Difficulty-in-Breath...   \n",
       "4       Fever,Tiredness,Dry-Cough,Difficulty-in-Breath...   \n",
       "...                                                   ...   \n",
       "316795                                       None_Sympton   \n",
       "316796                                       None_Sympton   \n",
       "316797                                       None_Sympton   \n",
       "316798                                       None_Sympton   \n",
       "316799                                       None_Sympton   \n",
       "\n",
       "                             Experiencing_Symptoms  Severity    Contact  \\\n",
       "0       Pains,Nasal-Congestion,Runny-Nose,Diarrhea      Mild        Yes   \n",
       "1       Pains,Nasal-Congestion,Runny-Nose,Diarrhea      Mild         No   \n",
       "2       Pains,Nasal-Congestion,Runny-Nose,Diarrhea      Mild  Dont-Know   \n",
       "3       Pains,Nasal-Congestion,Runny-Nose,Diarrhea  Moderate        Yes   \n",
       "4       Pains,Nasal-Congestion,Runny-Nose,Diarrhea  Moderate         No   \n",
       "...                                            ...       ...        ...   \n",
       "316795                           None_Experiencing    Severe         No   \n",
       "316796                           None_Experiencing    Severe  Dont-Know   \n",
       "316797                           None_Experiencing      None        Yes   \n",
       "316798                           None_Experiencing      None         No   \n",
       "316799                           None_Experiencing      None  Dont-Know   \n",
       "\n",
       "        Fever  Tiredness  Dry-Cough  Difficulty-in-Breathing  Sore-Throat  \\\n",
       "0           1          1          1                        1            1   \n",
       "1           1          1          1                        1            1   \n",
       "2           1          1          1                        1            1   \n",
       "3           1          1          1                        1            1   \n",
       "4           1          1          1                        1            1   \n",
       "...       ...        ...        ...                      ...          ...   \n",
       "316795      0          0          0                        0            0   \n",
       "316796      0          0          0                        0            0   \n",
       "316797      0          0          0                        0            0   \n",
       "316798      0          0          0                        0            0   \n",
       "316799      0          0          0                        0            0   \n",
       "\n",
       "        None_Sympton  \n",
       "0                  0  \n",
       "1                  0  \n",
       "2                  0  \n",
       "3                  0  \n",
       "4                  0  \n",
       "...              ...  \n",
       "316795             1  \n",
       "316796             1  \n",
       "316797             1  \n",
       "316798             1  \n",
       "316799             1  \n",
       "\n",
       "[316800 rows x 13 columns]"
      ],
      "text/html": "<div>\n<style scoped>\n    .dataframe tbody tr th:only-of-type {\n        vertical-align: middle;\n    }\n\n    .dataframe tbody tr th {\n        vertical-align: top;\n    }\n\n    .dataframe thead th {\n        text-align: right;\n    }\n</style>\n<table border=\"1\" class=\"dataframe\">\n  <thead>\n    <tr style=\"text-align: right;\">\n      <th></th>\n      <th>Country</th>\n      <th>Age</th>\n      <th>Gender</th>\n      <th>Symptoms</th>\n      <th>Experiencing_Symptoms</th>\n      <th>Severity</th>\n      <th>Contact</th>\n      <th>Fever</th>\n      <th>Tiredness</th>\n      <th>Dry-Cough</th>\n      <th>Difficulty-in-Breathing</th>\n      <th>Sore-Throat</th>\n      <th>None_Sympton</th>\n    </tr>\n  </thead>\n  <tbody>\n    <tr>\n      <th>0</th>\n      <td>China</td>\n      <td>0-9</td>\n      <td>Male</td>\n      <td>Fever,Tiredness,Dry-Cough,Difficulty-in-Breath...</td>\n      <td>Pains,Nasal-Congestion,Runny-Nose,Diarrhea</td>\n      <td>Mild</td>\n      <td>Yes</td>\n      <td>1</td>\n      <td>1</td>\n      <td>1</td>\n      <td>1</td>\n      <td>1</td>\n      <td>0</td>\n    </tr>\n    <tr>\n      <th>1</th>\n      <td>China</td>\n      <td>0-9</td>\n      <td>Male</td>\n      <td>Fever,Tiredness,Dry-Cough,Difficulty-in-Breath...</td>\n      <td>Pains,Nasal-Congestion,Runny-Nose,Diarrhea</td>\n      <td>Mild</td>\n      <td>No</td>\n      <td>1</td>\n      <td>1</td>\n      <td>1</td>\n      <td>1</td>\n      <td>1</td>\n      <td>0</td>\n    </tr>\n    <tr>\n      <th>2</th>\n      <td>China</td>\n      <td>0-9</td>\n      <td>Male</td>\n      <td>Fever,Tiredness,Dry-Cough,Difficulty-in-Breath...</td>\n      <td>Pains,Nasal-Congestion,Runny-Nose,Diarrhea</td>\n      <td>Mild</td>\n      <td>Dont-Know</td>\n      <td>1</td>\n      <td>1</td>\n      <td>1</td>\n      <td>1</td>\n      <td>1</td>\n      <td>0</td>\n    </tr>\n    <tr>\n      <th>3</th>\n      <td>China</td>\n      <td>0-9</td>\n      <td>Male</td>\n      <td>Fever,Tiredness,Dry-Cough,Difficulty-in-Breath...</td>\n      <td>Pains,Nasal-Congestion,Runny-Nose,Diarrhea</td>\n      <td>Moderate</td>\n      <td>Yes</td>\n      <td>1</td>\n      <td>1</td>\n      <td>1</td>\n      <td>1</td>\n      <td>1</td>\n      <td>0</td>\n    </tr>\n    <tr>\n      <th>4</th>\n      <td>China</td>\n      <td>0-9</td>\n      <td>Male</td>\n      <td>Fever,Tiredness,Dry-Cough,Difficulty-in-Breath...</td>\n      <td>Pains,Nasal-Congestion,Runny-Nose,Diarrhea</td>\n      <td>Moderate</td>\n      <td>No</td>\n      <td>1</td>\n      <td>1</td>\n      <td>1</td>\n      <td>1</td>\n      <td>1</td>\n      <td>0</td>\n    </tr>\n    <tr>\n      <th>...</th>\n      <td>...</td>\n      <td>...</td>\n      <td>...</td>\n      <td>...</td>\n      <td>...</td>\n      <td>...</td>\n      <td>...</td>\n      <td>...</td>\n      <td>...</td>\n      <td>...</td>\n      <td>...</td>\n      <td>...</td>\n      <td>...</td>\n    </tr>\n    <tr>\n      <th>316795</th>\n      <td>Other</td>\n      <td>60+</td>\n      <td>Transgender</td>\n      <td>None_Sympton</td>\n      <td>None_Experiencing</td>\n      <td>Severe</td>\n      <td>No</td>\n      <td>0</td>\n      <td>0</td>\n      <td>0</td>\n      <td>0</td>\n      <td>0</td>\n      <td>1</td>\n    </tr>\n    <tr>\n      <th>316796</th>\n      <td>Other</td>\n      <td>60+</td>\n      <td>Transgender</td>\n      <td>None_Sympton</td>\n      <td>None_Experiencing</td>\n      <td>Severe</td>\n      <td>Dont-Know</td>\n      <td>0</td>\n      <td>0</td>\n      <td>0</td>\n      <td>0</td>\n      <td>0</td>\n      <td>1</td>\n    </tr>\n    <tr>\n      <th>316797</th>\n      <td>Other</td>\n      <td>60+</td>\n      <td>Transgender</td>\n      <td>None_Sympton</td>\n      <td>None_Experiencing</td>\n      <td>None</td>\n      <td>Yes</td>\n      <td>0</td>\n      <td>0</td>\n      <td>0</td>\n      <td>0</td>\n      <td>0</td>\n      <td>1</td>\n    </tr>\n    <tr>\n      <th>316798</th>\n      <td>Other</td>\n      <td>60+</td>\n      <td>Transgender</td>\n      <td>None_Sympton</td>\n      <td>None_Experiencing</td>\n      <td>None</td>\n      <td>No</td>\n      <td>0</td>\n      <td>0</td>\n      <td>0</td>\n      <td>0</td>\n      <td>0</td>\n      <td>1</td>\n    </tr>\n    <tr>\n      <th>316799</th>\n      <td>Other</td>\n      <td>60+</td>\n      <td>Transgender</td>\n      <td>None_Sympton</td>\n      <td>None_Experiencing</td>\n      <td>None</td>\n      <td>Dont-Know</td>\n      <td>0</td>\n      <td>0</td>\n      <td>0</td>\n      <td>0</td>\n      <td>0</td>\n      <td>1</td>\n    </tr>\n  </tbody>\n</table>\n<p>316800 rows × 13 columns</p>\n</div>"
     },
     "metadata": {},
     "execution_count": 9
    }
   ],
   "source": [
    "symptoms_list = final_data['Symptoms'].str.split(',')\n",
    "\n",
    "from collections import Counter\n",
    "symptoms_counter = Counter(([a for b in symptoms_list.tolist() for a in b]))\n",
    "\n",
    "for symptom in symptoms_counter.keys():\n",
    "    final_data[symptom] = 0\n",
    "    final_data.loc[final_data['Symptoms'].str.contains(symptom), symptom] = 1\n",
    "\n",
    "final_data"
   ]
  },
  {
   "source": [
    "### Extracting the symptoms experiencing"
   ],
   "cell_type": "markdown",
   "metadata": {}
  },
  {
   "cell_type": "code",
   "execution_count": 10,
   "metadata": {},
   "outputs": [
    {
     "output_type": "execute_result",
     "data": {
      "text/plain": [
       "       Country  Age       Gender  \\\n",
       "0        China  0-9         Male   \n",
       "1        China  0-9         Male   \n",
       "2        China  0-9         Male   \n",
       "3        China  0-9         Male   \n",
       "4        China  0-9         Male   \n",
       "...        ...  ...          ...   \n",
       "316795   Other  60+  Transgender   \n",
       "316796   Other  60+  Transgender   \n",
       "316797   Other  60+  Transgender   \n",
       "316798   Other  60+  Transgender   \n",
       "316799   Other  60+  Transgender   \n",
       "\n",
       "                                                 Symptoms  \\\n",
       "0       Fever,Tiredness,Dry-Cough,Difficulty-in-Breath...   \n",
       "1       Fever,Tiredness,Dry-Cough,Difficulty-in-Breath...   \n",
       "2       Fever,Tiredness,Dry-Cough,Difficulty-in-Breath...   \n",
       "3       Fever,Tiredness,Dry-Cough,Difficulty-in-Breath...   \n",
       "4       Fever,Tiredness,Dry-Cough,Difficulty-in-Breath...   \n",
       "...                                                   ...   \n",
       "316795                                       None_Sympton   \n",
       "316796                                       None_Sympton   \n",
       "316797                                       None_Sympton   \n",
       "316798                                       None_Sympton   \n",
       "316799                                       None_Sympton   \n",
       "\n",
       "                             Experiencing_Symptoms  Severity    Contact  \\\n",
       "0       Pains,Nasal-Congestion,Runny-Nose,Diarrhea      Mild        Yes   \n",
       "1       Pains,Nasal-Congestion,Runny-Nose,Diarrhea      Mild         No   \n",
       "2       Pains,Nasal-Congestion,Runny-Nose,Diarrhea      Mild  Dont-Know   \n",
       "3       Pains,Nasal-Congestion,Runny-Nose,Diarrhea  Moderate        Yes   \n",
       "4       Pains,Nasal-Congestion,Runny-Nose,Diarrhea  Moderate         No   \n",
       "...                                            ...       ...        ...   \n",
       "316795                           None_Experiencing    Severe         No   \n",
       "316796                           None_Experiencing    Severe  Dont-Know   \n",
       "316797                           None_Experiencing      None        Yes   \n",
       "316798                           None_Experiencing      None         No   \n",
       "316799                           None_Experiencing      None  Dont-Know   \n",
       "\n",
       "        Fever  Tiredness  Dry-Cough  Difficulty-in-Breathing  Sore-Throat  \\\n",
       "0           1          1          1                        1            1   \n",
       "1           1          1          1                        1            1   \n",
       "2           1          1          1                        1            1   \n",
       "3           1          1          1                        1            1   \n",
       "4           1          1          1                        1            1   \n",
       "...       ...        ...        ...                      ...          ...   \n",
       "316795      0          0          0                        0            0   \n",
       "316796      0          0          0                        0            0   \n",
       "316797      0          0          0                        0            0   \n",
       "316798      0          0          0                        0            0   \n",
       "316799      0          0          0                        0            0   \n",
       "\n",
       "        None_Sympton  Pains  Nasal-Congestion  Runny-Nose  Diarrhea  \\\n",
       "0                  0      1                 1           1         1   \n",
       "1                  0      1                 1           1         1   \n",
       "2                  0      1                 1           1         1   \n",
       "3                  0      1                 1           1         1   \n",
       "4                  0      1                 1           1         1   \n",
       "...              ...    ...               ...         ...       ...   \n",
       "316795             1      0                 0           0         0   \n",
       "316796             1      0                 0           0         0   \n",
       "316797             1      0                 0           0         0   \n",
       "316798             1      0                 0           0         0   \n",
       "316799             1      0                 0           0         0   \n",
       "\n",
       "        None_Experiencing  \n",
       "0                       0  \n",
       "1                       0  \n",
       "2                       0  \n",
       "3                       0  \n",
       "4                       0  \n",
       "...                   ...  \n",
       "316795                  1  \n",
       "316796                  1  \n",
       "316797                  1  \n",
       "316798                  1  \n",
       "316799                  1  \n",
       "\n",
       "[316800 rows x 18 columns]"
      ],
      "text/html": "<div>\n<style scoped>\n    .dataframe tbody tr th:only-of-type {\n        vertical-align: middle;\n    }\n\n    .dataframe tbody tr th {\n        vertical-align: top;\n    }\n\n    .dataframe thead th {\n        text-align: right;\n    }\n</style>\n<table border=\"1\" class=\"dataframe\">\n  <thead>\n    <tr style=\"text-align: right;\">\n      <th></th>\n      <th>Country</th>\n      <th>Age</th>\n      <th>Gender</th>\n      <th>Symptoms</th>\n      <th>Experiencing_Symptoms</th>\n      <th>Severity</th>\n      <th>Contact</th>\n      <th>Fever</th>\n      <th>Tiredness</th>\n      <th>Dry-Cough</th>\n      <th>Difficulty-in-Breathing</th>\n      <th>Sore-Throat</th>\n      <th>None_Sympton</th>\n      <th>Pains</th>\n      <th>Nasal-Congestion</th>\n      <th>Runny-Nose</th>\n      <th>Diarrhea</th>\n      <th>None_Experiencing</th>\n    </tr>\n  </thead>\n  <tbody>\n    <tr>\n      <th>0</th>\n      <td>China</td>\n      <td>0-9</td>\n      <td>Male</td>\n      <td>Fever,Tiredness,Dry-Cough,Difficulty-in-Breath...</td>\n      <td>Pains,Nasal-Congestion,Runny-Nose,Diarrhea</td>\n      <td>Mild</td>\n      <td>Yes</td>\n      <td>1</td>\n      <td>1</td>\n      <td>1</td>\n      <td>1</td>\n      <td>1</td>\n      <td>0</td>\n      <td>1</td>\n      <td>1</td>\n      <td>1</td>\n      <td>1</td>\n      <td>0</td>\n    </tr>\n    <tr>\n      <th>1</th>\n      <td>China</td>\n      <td>0-9</td>\n      <td>Male</td>\n      <td>Fever,Tiredness,Dry-Cough,Difficulty-in-Breath...</td>\n      <td>Pains,Nasal-Congestion,Runny-Nose,Diarrhea</td>\n      <td>Mild</td>\n      <td>No</td>\n      <td>1</td>\n      <td>1</td>\n      <td>1</td>\n      <td>1</td>\n      <td>1</td>\n      <td>0</td>\n      <td>1</td>\n      <td>1</td>\n      <td>1</td>\n      <td>1</td>\n      <td>0</td>\n    </tr>\n    <tr>\n      <th>2</th>\n      <td>China</td>\n      <td>0-9</td>\n      <td>Male</td>\n      <td>Fever,Tiredness,Dry-Cough,Difficulty-in-Breath...</td>\n      <td>Pains,Nasal-Congestion,Runny-Nose,Diarrhea</td>\n      <td>Mild</td>\n      <td>Dont-Know</td>\n      <td>1</td>\n      <td>1</td>\n      <td>1</td>\n      <td>1</td>\n      <td>1</td>\n      <td>0</td>\n      <td>1</td>\n      <td>1</td>\n      <td>1</td>\n      <td>1</td>\n      <td>0</td>\n    </tr>\n    <tr>\n      <th>3</th>\n      <td>China</td>\n      <td>0-9</td>\n      <td>Male</td>\n      <td>Fever,Tiredness,Dry-Cough,Difficulty-in-Breath...</td>\n      <td>Pains,Nasal-Congestion,Runny-Nose,Diarrhea</td>\n      <td>Moderate</td>\n      <td>Yes</td>\n      <td>1</td>\n      <td>1</td>\n      <td>1</td>\n      <td>1</td>\n      <td>1</td>\n      <td>0</td>\n      <td>1</td>\n      <td>1</td>\n      <td>1</td>\n      <td>1</td>\n      <td>0</td>\n    </tr>\n    <tr>\n      <th>4</th>\n      <td>China</td>\n      <td>0-9</td>\n      <td>Male</td>\n      <td>Fever,Tiredness,Dry-Cough,Difficulty-in-Breath...</td>\n      <td>Pains,Nasal-Congestion,Runny-Nose,Diarrhea</td>\n      <td>Moderate</td>\n      <td>No</td>\n      <td>1</td>\n      <td>1</td>\n      <td>1</td>\n      <td>1</td>\n      <td>1</td>\n      <td>0</td>\n      <td>1</td>\n      <td>1</td>\n      <td>1</td>\n      <td>1</td>\n      <td>0</td>\n    </tr>\n    <tr>\n      <th>...</th>\n      <td>...</td>\n      <td>...</td>\n      <td>...</td>\n      <td>...</td>\n      <td>...</td>\n      <td>...</td>\n      <td>...</td>\n      <td>...</td>\n      <td>...</td>\n      <td>...</td>\n      <td>...</td>\n      <td>...</td>\n      <td>...</td>\n      <td>...</td>\n      <td>...</td>\n      <td>...</td>\n      <td>...</td>\n      <td>...</td>\n    </tr>\n    <tr>\n      <th>316795</th>\n      <td>Other</td>\n      <td>60+</td>\n      <td>Transgender</td>\n      <td>None_Sympton</td>\n      <td>None_Experiencing</td>\n      <td>Severe</td>\n      <td>No</td>\n      <td>0</td>\n      <td>0</td>\n      <td>0</td>\n      <td>0</td>\n      <td>0</td>\n      <td>1</td>\n      <td>0</td>\n      <td>0</td>\n      <td>0</td>\n      <td>0</td>\n      <td>1</td>\n    </tr>\n    <tr>\n      <th>316796</th>\n      <td>Other</td>\n      <td>60+</td>\n      <td>Transgender</td>\n      <td>None_Sympton</td>\n      <td>None_Experiencing</td>\n      <td>Severe</td>\n      <td>Dont-Know</td>\n      <td>0</td>\n      <td>0</td>\n      <td>0</td>\n      <td>0</td>\n      <td>0</td>\n      <td>1</td>\n      <td>0</td>\n      <td>0</td>\n      <td>0</td>\n      <td>0</td>\n      <td>1</td>\n    </tr>\n    <tr>\n      <th>316797</th>\n      <td>Other</td>\n      <td>60+</td>\n      <td>Transgender</td>\n      <td>None_Sympton</td>\n      <td>None_Experiencing</td>\n      <td>None</td>\n      <td>Yes</td>\n      <td>0</td>\n      <td>0</td>\n      <td>0</td>\n      <td>0</td>\n      <td>0</td>\n      <td>1</td>\n      <td>0</td>\n      <td>0</td>\n      <td>0</td>\n      <td>0</td>\n      <td>1</td>\n    </tr>\n    <tr>\n      <th>316798</th>\n      <td>Other</td>\n      <td>60+</td>\n      <td>Transgender</td>\n      <td>None_Sympton</td>\n      <td>None_Experiencing</td>\n      <td>None</td>\n      <td>No</td>\n      <td>0</td>\n      <td>0</td>\n      <td>0</td>\n      <td>0</td>\n      <td>0</td>\n      <td>1</td>\n      <td>0</td>\n      <td>0</td>\n      <td>0</td>\n      <td>0</td>\n      <td>1</td>\n    </tr>\n    <tr>\n      <th>316799</th>\n      <td>Other</td>\n      <td>60+</td>\n      <td>Transgender</td>\n      <td>None_Sympton</td>\n      <td>None_Experiencing</td>\n      <td>None</td>\n      <td>Dont-Know</td>\n      <td>0</td>\n      <td>0</td>\n      <td>0</td>\n      <td>0</td>\n      <td>0</td>\n      <td>1</td>\n      <td>0</td>\n      <td>0</td>\n      <td>0</td>\n      <td>0</td>\n      <td>1</td>\n    </tr>\n  </tbody>\n</table>\n<p>316800 rows × 18 columns</p>\n</div>"
     },
     "metadata": {},
     "execution_count": 10
    }
   ],
   "source": [
    "esymptoms_list = final_data['Experiencing_Symptoms'].str.split(',')\n",
    "\n",
    "from collections import Counter\n",
    "esymptoms_counter = Counter(([a for b in esymptoms_list.tolist() for a in b]))\n",
    "\n",
    "for esymptom in esymptoms_counter.keys():\n",
    "    final_data[esymptom] = 0\n",
    "    final_data.loc[final_data['Experiencing_Symptoms'].str.contains(esymptom), esymptom] = 1\n",
    "\n",
    "final_data"
   ]
  },
  {
   "source": [
    "### Dropping the normalized columns raw features"
   ],
   "cell_type": "markdown",
   "metadata": {}
  },
  {
   "cell_type": "code",
   "execution_count": 11,
   "metadata": {},
   "outputs": [
    {
     "output_type": "execute_result",
     "data": {
      "text/plain": [
       "   Fever  Tiredness  Dry-Cough  Difficulty-in-Breathing  Sore-Throat  \\\n",
       "0      1          1          1                        1            1   \n",
       "1      1          1          1                        1            1   \n",
       "2      1          1          1                        1            1   \n",
       "3      1          1          1                        1            1   \n",
       "4      1          1          1                        1            1   \n",
       "\n",
       "   None_Sympton  Pains  Nasal-Congestion  Runny-Nose  Diarrhea  \\\n",
       "0             0      1                 1           1         1   \n",
       "1             0      1                 1           1         1   \n",
       "2             0      1                 1           1         1   \n",
       "3             0      1                 1           1         1   \n",
       "4             0      1                 1           1         1   \n",
       "\n",
       "   None_Experiencing  Age_0-9  Age_10-19  Age_20-24  Age_25-59  Age_60+  \\\n",
       "0                  0        1          0          0          0        0   \n",
       "1                  0        1          0          0          0        0   \n",
       "2                  0        1          0          0          0        0   \n",
       "3                  0        1          0          0          0        0   \n",
       "4                  0        1          0          0          0        0   \n",
       "\n",
       "   Gender_Female  Gender_Male  Gender_Transgender  Severity_Mild  \\\n",
       "0              0            1                   0              1   \n",
       "1              0            1                   0              1   \n",
       "2              0            1                   0              1   \n",
       "3              0            1                   0              0   \n",
       "4              0            1                   0              0   \n",
       "\n",
       "   Severity_Moderate  Severity_None  Severity_Severe  Contact_Dont-Know  \\\n",
       "0                  0              0                0                  0   \n",
       "1                  0              0                0                  0   \n",
       "2                  0              0                0                  1   \n",
       "3                  1              0                0                  0   \n",
       "4                  1              0                0                  0   \n",
       "\n",
       "   Contact_No  Contact_Yes Country  \n",
       "0           0            1   China  \n",
       "1           1            0   China  \n",
       "2           0            0   China  \n",
       "3           0            1   China  \n",
       "4           1            0   China  "
      ],
      "text/html": "<div>\n<style scoped>\n    .dataframe tbody tr th:only-of-type {\n        vertical-align: middle;\n    }\n\n    .dataframe tbody tr th {\n        vertical-align: top;\n    }\n\n    .dataframe thead th {\n        text-align: right;\n    }\n</style>\n<table border=\"1\" class=\"dataframe\">\n  <thead>\n    <tr style=\"text-align: right;\">\n      <th></th>\n      <th>Fever</th>\n      <th>Tiredness</th>\n      <th>Dry-Cough</th>\n      <th>Difficulty-in-Breathing</th>\n      <th>Sore-Throat</th>\n      <th>None_Sympton</th>\n      <th>Pains</th>\n      <th>Nasal-Congestion</th>\n      <th>Runny-Nose</th>\n      <th>Diarrhea</th>\n      <th>None_Experiencing</th>\n      <th>Age_0-9</th>\n      <th>Age_10-19</th>\n      <th>Age_20-24</th>\n      <th>Age_25-59</th>\n      <th>Age_60+</th>\n      <th>Gender_Female</th>\n      <th>Gender_Male</th>\n      <th>Gender_Transgender</th>\n      <th>Severity_Mild</th>\n      <th>Severity_Moderate</th>\n      <th>Severity_None</th>\n      <th>Severity_Severe</th>\n      <th>Contact_Dont-Know</th>\n      <th>Contact_No</th>\n      <th>Contact_Yes</th>\n      <th>Country</th>\n    </tr>\n  </thead>\n  <tbody>\n    <tr>\n      <th>0</th>\n      <td>1</td>\n      <td>1</td>\n      <td>1</td>\n      <td>1</td>\n      <td>1</td>\n      <td>0</td>\n      <td>1</td>\n      <td>1</td>\n      <td>1</td>\n      <td>1</td>\n      <td>0</td>\n      <td>1</td>\n      <td>0</td>\n      <td>0</td>\n      <td>0</td>\n      <td>0</td>\n      <td>0</td>\n      <td>1</td>\n      <td>0</td>\n      <td>1</td>\n      <td>0</td>\n      <td>0</td>\n      <td>0</td>\n      <td>0</td>\n      <td>0</td>\n      <td>1</td>\n      <td>China</td>\n    </tr>\n    <tr>\n      <th>1</th>\n      <td>1</td>\n      <td>1</td>\n      <td>1</td>\n      <td>1</td>\n      <td>1</td>\n      <td>0</td>\n      <td>1</td>\n      <td>1</td>\n      <td>1</td>\n      <td>1</td>\n      <td>0</td>\n      <td>1</td>\n      <td>0</td>\n      <td>0</td>\n      <td>0</td>\n      <td>0</td>\n      <td>0</td>\n      <td>1</td>\n      <td>0</td>\n      <td>1</td>\n      <td>0</td>\n      <td>0</td>\n      <td>0</td>\n      <td>0</td>\n      <td>1</td>\n      <td>0</td>\n      <td>China</td>\n    </tr>\n    <tr>\n      <th>2</th>\n      <td>1</td>\n      <td>1</td>\n      <td>1</td>\n      <td>1</td>\n      <td>1</td>\n      <td>0</td>\n      <td>1</td>\n      <td>1</td>\n      <td>1</td>\n      <td>1</td>\n      <td>0</td>\n      <td>1</td>\n      <td>0</td>\n      <td>0</td>\n      <td>0</td>\n      <td>0</td>\n      <td>0</td>\n      <td>1</td>\n      <td>0</td>\n      <td>1</td>\n      <td>0</td>\n      <td>0</td>\n      <td>0</td>\n      <td>1</td>\n      <td>0</td>\n      <td>0</td>\n      <td>China</td>\n    </tr>\n    <tr>\n      <th>3</th>\n      <td>1</td>\n      <td>1</td>\n      <td>1</td>\n      <td>1</td>\n      <td>1</td>\n      <td>0</td>\n      <td>1</td>\n      <td>1</td>\n      <td>1</td>\n      <td>1</td>\n      <td>0</td>\n      <td>1</td>\n      <td>0</td>\n      <td>0</td>\n      <td>0</td>\n      <td>0</td>\n      <td>0</td>\n      <td>1</td>\n      <td>0</td>\n      <td>0</td>\n      <td>1</td>\n      <td>0</td>\n      <td>0</td>\n      <td>0</td>\n      <td>0</td>\n      <td>1</td>\n      <td>China</td>\n    </tr>\n    <tr>\n      <th>4</th>\n      <td>1</td>\n      <td>1</td>\n      <td>1</td>\n      <td>1</td>\n      <td>1</td>\n      <td>0</td>\n      <td>1</td>\n      <td>1</td>\n      <td>1</td>\n      <td>1</td>\n      <td>0</td>\n      <td>1</td>\n      <td>0</td>\n      <td>0</td>\n      <td>0</td>\n      <td>0</td>\n      <td>0</td>\n      <td>1</td>\n      <td>0</td>\n      <td>0</td>\n      <td>1</td>\n      <td>0</td>\n      <td>0</td>\n      <td>0</td>\n      <td>1</td>\n      <td>0</td>\n      <td>China</td>\n    </tr>\n  </tbody>\n</table>\n</div>"
     },
     "metadata": {},
     "execution_count": 11
    }
   ],
   "source": [
    "final_data = final_data.drop(['Symptoms','Experiencing_Symptoms'],axis=1)\n",
    "dummies = pd.get_dummies(final_data.drop('Country',axis=1))\n",
    "dummies['Country'] = final_data['Country']\n",
    "final_data = dummies\n",
    "final_data.head()"
   ]
  },
  {
   "source": [
    "## Statistics"
   ],
   "cell_type": "markdown",
   "metadata": {}
  },
  {
   "source": [
    "final_data.describe()"
   ],
   "cell_type": "code",
   "metadata": {},
   "execution_count": 12,
   "outputs": [
    {
     "output_type": "execute_result",
     "data": {
      "text/plain": [
       "               Fever      Tiredness      Dry-Cough  Difficulty-in-Breathing  \\\n",
       "count  316800.000000  316800.000000  316800.000000            316800.000000   \n",
       "mean        0.312500       0.500000       0.562500                 0.500000   \n",
       "std         0.463513       0.500001       0.496079                 0.500001   \n",
       "min         0.000000       0.000000       0.000000                 0.000000   \n",
       "25%         0.000000       0.000000       0.000000                 0.000000   \n",
       "50%         0.000000       0.500000       1.000000                 0.500000   \n",
       "75%         1.000000       1.000000       1.000000                 1.000000   \n",
       "max         1.000000       1.000000       1.000000                 1.000000   \n",
       "\n",
       "         Sore-Throat   None_Sympton          Pains  Nasal-Congestion  \\\n",
       "count  316800.000000  316800.000000  316800.000000     316800.000000   \n",
       "mean        0.312500       0.062500       0.363636          0.545455   \n",
       "std         0.463513       0.242062       0.481046          0.497930   \n",
       "min         0.000000       0.000000       0.000000          0.000000   \n",
       "25%         0.000000       0.000000       0.000000          0.000000   \n",
       "50%         0.000000       0.000000       0.000000          1.000000   \n",
       "75%         1.000000       0.000000       1.000000          1.000000   \n",
       "max         1.000000       1.000000       1.000000          1.000000   \n",
       "\n",
       "          Runny-Nose       Diarrhea  None_Experiencing        Age_0-9  \\\n",
       "count  316800.000000  316800.000000      316800.000000  316800.000000   \n",
       "mean        0.545455       0.363636           0.090909       0.200000   \n",
       "std         0.497930       0.481046           0.287480       0.400001   \n",
       "min         0.000000       0.000000           0.000000       0.000000   \n",
       "25%         0.000000       0.000000           0.000000       0.000000   \n",
       "50%         1.000000       0.000000           0.000000       0.000000   \n",
       "75%         1.000000       1.000000           0.000000       0.000000   \n",
       "max         1.000000       1.000000           1.000000       1.000000   \n",
       "\n",
       "           Age_10-19      Age_20-24      Age_25-59        Age_60+  \\\n",
       "count  316800.000000  316800.000000  316800.000000  316800.000000   \n",
       "mean        0.200000       0.200000       0.200000       0.200000   \n",
       "std         0.400001       0.400001       0.400001       0.400001   \n",
       "min         0.000000       0.000000       0.000000       0.000000   \n",
       "25%         0.000000       0.000000       0.000000       0.000000   \n",
       "50%         0.000000       0.000000       0.000000       0.000000   \n",
       "75%         0.000000       0.000000       0.000000       0.000000   \n",
       "max         1.000000       1.000000       1.000000       1.000000   \n",
       "\n",
       "       Gender_Female    Gender_Male  Gender_Transgender  Severity_Mild  \\\n",
       "count  316800.000000  316800.000000       316800.000000  316800.000000   \n",
       "mean        0.333333       0.333333            0.333333       0.250000   \n",
       "std         0.471405       0.471405            0.471405       0.433013   \n",
       "min         0.000000       0.000000            0.000000       0.000000   \n",
       "25%         0.000000       0.000000            0.000000       0.000000   \n",
       "50%         0.000000       0.000000            0.000000       0.000000   \n",
       "75%         1.000000       1.000000            1.000000       0.250000   \n",
       "max         1.000000       1.000000            1.000000       1.000000   \n",
       "\n",
       "       Severity_Moderate  Severity_None  Severity_Severe  Contact_Dont-Know  \\\n",
       "count      316800.000000  316800.000000    316800.000000      316800.000000   \n",
       "mean            0.250000       0.250000         0.250000           0.333333   \n",
       "std             0.433013       0.433013         0.433013           0.471405   \n",
       "min             0.000000       0.000000         0.000000           0.000000   \n",
       "25%             0.000000       0.000000         0.000000           0.000000   \n",
       "50%             0.000000       0.000000         0.000000           0.000000   \n",
       "75%             0.250000       0.250000         0.250000           1.000000   \n",
       "max             1.000000       1.000000         1.000000           1.000000   \n",
       "\n",
       "          Contact_No    Contact_Yes  \n",
       "count  316800.000000  316800.000000  \n",
       "mean        0.333333       0.333333  \n",
       "std         0.471405       0.471405  \n",
       "min         0.000000       0.000000  \n",
       "25%         0.000000       0.000000  \n",
       "50%         0.000000       0.000000  \n",
       "75%         1.000000       1.000000  \n",
       "max         1.000000       1.000000  "
      ],
      "text/html": "<div>\n<style scoped>\n    .dataframe tbody tr th:only-of-type {\n        vertical-align: middle;\n    }\n\n    .dataframe tbody tr th {\n        vertical-align: top;\n    }\n\n    .dataframe thead th {\n        text-align: right;\n    }\n</style>\n<table border=\"1\" class=\"dataframe\">\n  <thead>\n    <tr style=\"text-align: right;\">\n      <th></th>\n      <th>Fever</th>\n      <th>Tiredness</th>\n      <th>Dry-Cough</th>\n      <th>Difficulty-in-Breathing</th>\n      <th>Sore-Throat</th>\n      <th>None_Sympton</th>\n      <th>Pains</th>\n      <th>Nasal-Congestion</th>\n      <th>Runny-Nose</th>\n      <th>Diarrhea</th>\n      <th>None_Experiencing</th>\n      <th>Age_0-9</th>\n      <th>Age_10-19</th>\n      <th>Age_20-24</th>\n      <th>Age_25-59</th>\n      <th>Age_60+</th>\n      <th>Gender_Female</th>\n      <th>Gender_Male</th>\n      <th>Gender_Transgender</th>\n      <th>Severity_Mild</th>\n      <th>Severity_Moderate</th>\n      <th>Severity_None</th>\n      <th>Severity_Severe</th>\n      <th>Contact_Dont-Know</th>\n      <th>Contact_No</th>\n      <th>Contact_Yes</th>\n    </tr>\n  </thead>\n  <tbody>\n    <tr>\n      <th>count</th>\n      <td>316800.000000</td>\n      <td>316800.000000</td>\n      <td>316800.000000</td>\n      <td>316800.000000</td>\n      <td>316800.000000</td>\n      <td>316800.000000</td>\n      <td>316800.000000</td>\n      <td>316800.000000</td>\n      <td>316800.000000</td>\n      <td>316800.000000</td>\n      <td>316800.000000</td>\n      <td>316800.000000</td>\n      <td>316800.000000</td>\n      <td>316800.000000</td>\n      <td>316800.000000</td>\n      <td>316800.000000</td>\n      <td>316800.000000</td>\n      <td>316800.000000</td>\n      <td>316800.000000</td>\n      <td>316800.000000</td>\n      <td>316800.000000</td>\n      <td>316800.000000</td>\n      <td>316800.000000</td>\n      <td>316800.000000</td>\n      <td>316800.000000</td>\n      <td>316800.000000</td>\n    </tr>\n    <tr>\n      <th>mean</th>\n      <td>0.312500</td>\n      <td>0.500000</td>\n      <td>0.562500</td>\n      <td>0.500000</td>\n      <td>0.312500</td>\n      <td>0.062500</td>\n      <td>0.363636</td>\n      <td>0.545455</td>\n      <td>0.545455</td>\n      <td>0.363636</td>\n      <td>0.090909</td>\n      <td>0.200000</td>\n      <td>0.200000</td>\n      <td>0.200000</td>\n      <td>0.200000</td>\n      <td>0.200000</td>\n      <td>0.333333</td>\n      <td>0.333333</td>\n      <td>0.333333</td>\n      <td>0.250000</td>\n      <td>0.250000</td>\n      <td>0.250000</td>\n      <td>0.250000</td>\n      <td>0.333333</td>\n      <td>0.333333</td>\n      <td>0.333333</td>\n    </tr>\n    <tr>\n      <th>std</th>\n      <td>0.463513</td>\n      <td>0.500001</td>\n      <td>0.496079</td>\n      <td>0.500001</td>\n      <td>0.463513</td>\n      <td>0.242062</td>\n      <td>0.481046</td>\n      <td>0.497930</td>\n      <td>0.497930</td>\n      <td>0.481046</td>\n      <td>0.287480</td>\n      <td>0.400001</td>\n      <td>0.400001</td>\n      <td>0.400001</td>\n      <td>0.400001</td>\n      <td>0.400001</td>\n      <td>0.471405</td>\n      <td>0.471405</td>\n      <td>0.471405</td>\n      <td>0.433013</td>\n      <td>0.433013</td>\n      <td>0.433013</td>\n      <td>0.433013</td>\n      <td>0.471405</td>\n      <td>0.471405</td>\n      <td>0.471405</td>\n    </tr>\n    <tr>\n      <th>min</th>\n      <td>0.000000</td>\n      <td>0.000000</td>\n      <td>0.000000</td>\n      <td>0.000000</td>\n      <td>0.000000</td>\n      <td>0.000000</td>\n      <td>0.000000</td>\n      <td>0.000000</td>\n      <td>0.000000</td>\n      <td>0.000000</td>\n      <td>0.000000</td>\n      <td>0.000000</td>\n      <td>0.000000</td>\n      <td>0.000000</td>\n      <td>0.000000</td>\n      <td>0.000000</td>\n      <td>0.000000</td>\n      <td>0.000000</td>\n      <td>0.000000</td>\n      <td>0.000000</td>\n      <td>0.000000</td>\n      <td>0.000000</td>\n      <td>0.000000</td>\n      <td>0.000000</td>\n      <td>0.000000</td>\n      <td>0.000000</td>\n    </tr>\n    <tr>\n      <th>25%</th>\n      <td>0.000000</td>\n      <td>0.000000</td>\n      <td>0.000000</td>\n      <td>0.000000</td>\n      <td>0.000000</td>\n      <td>0.000000</td>\n      <td>0.000000</td>\n      <td>0.000000</td>\n      <td>0.000000</td>\n      <td>0.000000</td>\n      <td>0.000000</td>\n      <td>0.000000</td>\n      <td>0.000000</td>\n      <td>0.000000</td>\n      <td>0.000000</td>\n      <td>0.000000</td>\n      <td>0.000000</td>\n      <td>0.000000</td>\n      <td>0.000000</td>\n      <td>0.000000</td>\n      <td>0.000000</td>\n      <td>0.000000</td>\n      <td>0.000000</td>\n      <td>0.000000</td>\n      <td>0.000000</td>\n      <td>0.000000</td>\n    </tr>\n    <tr>\n      <th>50%</th>\n      <td>0.000000</td>\n      <td>0.500000</td>\n      <td>1.000000</td>\n      <td>0.500000</td>\n      <td>0.000000</td>\n      <td>0.000000</td>\n      <td>0.000000</td>\n      <td>1.000000</td>\n      <td>1.000000</td>\n      <td>0.000000</td>\n      <td>0.000000</td>\n      <td>0.000000</td>\n      <td>0.000000</td>\n      <td>0.000000</td>\n      <td>0.000000</td>\n      <td>0.000000</td>\n      <td>0.000000</td>\n      <td>0.000000</td>\n      <td>0.000000</td>\n      <td>0.000000</td>\n      <td>0.000000</td>\n      <td>0.000000</td>\n      <td>0.000000</td>\n      <td>0.000000</td>\n      <td>0.000000</td>\n      <td>0.000000</td>\n    </tr>\n    <tr>\n      <th>75%</th>\n      <td>1.000000</td>\n      <td>1.000000</td>\n      <td>1.000000</td>\n      <td>1.000000</td>\n      <td>1.000000</td>\n      <td>0.000000</td>\n      <td>1.000000</td>\n      <td>1.000000</td>\n      <td>1.000000</td>\n      <td>1.000000</td>\n      <td>0.000000</td>\n      <td>0.000000</td>\n      <td>0.000000</td>\n      <td>0.000000</td>\n      <td>0.000000</td>\n      <td>0.000000</td>\n      <td>1.000000</td>\n      <td>1.000000</td>\n      <td>1.000000</td>\n      <td>0.250000</td>\n      <td>0.250000</td>\n      <td>0.250000</td>\n      <td>0.250000</td>\n      <td>1.000000</td>\n      <td>1.000000</td>\n      <td>1.000000</td>\n    </tr>\n    <tr>\n      <th>max</th>\n      <td>1.000000</td>\n      <td>1.000000</td>\n      <td>1.000000</td>\n      <td>1.000000</td>\n      <td>1.000000</td>\n      <td>1.000000</td>\n      <td>1.000000</td>\n      <td>1.000000</td>\n      <td>1.000000</td>\n      <td>1.000000</td>\n      <td>1.000000</td>\n      <td>1.000000</td>\n      <td>1.000000</td>\n      <td>1.000000</td>\n      <td>1.000000</td>\n      <td>1.000000</td>\n      <td>1.000000</td>\n      <td>1.000000</td>\n      <td>1.000000</td>\n      <td>1.000000</td>\n      <td>1.000000</td>\n      <td>1.000000</td>\n      <td>1.000000</td>\n      <td>1.000000</td>\n      <td>1.000000</td>\n      <td>1.000000</td>\n    </tr>\n  </tbody>\n</table>\n</div>"
     },
     "metadata": {},
     "execution_count": 12
    }
   ]
  },
  {
   "cell_type": "code",
   "execution_count": 25,
   "metadata": {},
   "outputs": [
    {
     "output_type": "stream",
     "name": "stdout",
     "text": [
      "Country:  Iran                  31680\nChina                 31680\nFrance                31680\nRepublic of Korean    31680\nOther                 31680\nItaly                 31680\nOther-EUR             31680\nSpain                 31680\nGermany               31680\nUAE                   31680\nName: Country, dtype: int64\n"
     ]
    }
   ],
   "source": [
    "print(\"Country: \", final_data[\"Country\"].value_counts())"
   ]
  },
  {
   "cell_type": "code",
   "execution_count": 13,
   "metadata": {},
   "outputs": [
    {
     "output_type": "stream",
     "name": "stdout",
     "text": [
      "Age 0-9: \n 0    253440\n1     63360\nName: Age_0-9, dtype: int64\nAge 10-19: \n 0    253440\n1     63360\nName: Age_10-19, dtype: int64\nAge 20-24: \n 0    253440\n1     63360\nName: Age_20-24, dtype: int64\nAge 25-59: \n 0    253440\n1     63360\nName: Age_25-59, dtype: int64\nAge 60+: \n 0    253440\n1     63360\nName: Age_60+, dtype: int64\n"
     ]
    }
   ],
   "source": [
    "print(\"Age 0-9: \\n\", final_data['Age_0-9'].value_counts())\n",
    "print(\"Age 10-19: \\n\", final_data['Age_10-19'].value_counts())\n",
    "print(\"Age 20-24: \\n\", final_data['Age_20-24'].value_counts())\n",
    "print(\"Age 25-59: \\n\", final_data['Age_25-59'].value_counts())\n",
    "print(\"Age 60+: \\n\", final_data['Age_60+'].value_counts())"
   ]
  },
  {
   "cell_type": "code",
   "execution_count": 22,
   "metadata": {},
   "outputs": [
    {
     "output_type": "stream",
     "name": "stdout",
     "text": [
      "Dry-Cough count: \n 1    178200\n0    138600\nName: Dry-Cough, dtype: int64\nDifficulty-in-Breathing count: \n 0    158400\n1    158400\nName: Difficulty-in-Breathing, dtype: int64\nSore-Throat count: \n 0    217800\n1     99000\nName: Sore-Throat, dtype: int64\nNasal-Congestion count: \n 1    172800\n0    144000\nName: Nasal-Congestion, dtype: int64\nRunny-Nose count: \n 1    172800\n0    144000\nName: Runny-Nose, dtype: int64\n"
     ]
    }
   ],
   "source": [
    "print(\"Dry-Cough count: \\n\", final_data['Dry-Cough'].value_counts())\n",
    "print(\"Difficulty-in-Breathing count: \\n\", final_data['Difficulty-in-Breathing'].value_counts())\n",
    "print(\"Sore-Throat count: \\n\", final_data['Sore-Throat'].value_counts())\n",
    "print(\"Nasal-Congestion count: \\n\", final_data['Nasal-Congestion'].value_counts())\n",
    "print(\"Runny-Nose count: \\n\", final_data['Runny-Nose'].value_counts())"
   ]
  },
  {
   "source": [
    "print(\"Fever count: \\n\", final_data['Fever'].value_counts())\n",
    "print(\"Tiredness count: \\n\", final_data['Tiredness'].value_counts())\n",
    "print(\"Pains count: \\n\", final_data['Pains'].value_counts())\n",
    "print(\"Diarrhea count: \\n\", final_data['Diarrhea'].value_counts())"
   ],
   "cell_type": "code",
   "metadata": {},
   "execution_count": 23,
   "outputs": [
    {
     "output_type": "stream",
     "name": "stdout",
     "text": [
      "Fever count: \n 0    217800\n1     99000\nName: Fever, dtype: int64\nTiredness count: \n 0    158400\n1    158400\nName: Tiredness, dtype: int64\nPains count: \n 0    201600\n1    115200\nName: Pains, dtype: int64\nDiarrhea count: \n 0    201600\n1    115200\nName: Diarrhea, dtype: int64\n"
     ]
    }
   ]
  },
  {
   "cell_type": "code",
   "execution_count": 24,
   "metadata": {},
   "outputs": [
    {
     "output_type": "stream",
     "name": "stdout",
     "text": [
      "None_Experiencing count: \n 0    288000\n1     28800\nName: None_Experiencing, dtype: int64\nNo symptoms count: \n 0    297000\n1     19800\nName: None_Sympton, dtype: int64\n"
     ]
    }
   ],
   "source": [
    "print(\"None_Experiencing count: \\n\", final_data['None_Experiencing'].value_counts())\n",
    "print(\"No symptoms count: \\n\", final_data['None_Sympton'].value_counts())"
   ]
  },
  {
   "source": [
    "## Storing the data"
   ],
   "cell_type": "markdown",
   "metadata": {}
  },
  {
   "cell_type": "code",
   "execution_count": 15,
   "metadata": {},
   "outputs": [],
   "source": [
    "final_data.to_csv('Cleaned-Data.csv', index=False, header=True)"
   ]
  }
 ]
}